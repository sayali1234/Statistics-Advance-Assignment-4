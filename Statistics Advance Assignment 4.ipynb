{
 "cells": [
  {
   "cell_type": "markdown",
   "id": "ebb8bd77-6e8d-48f4-a4c6-a5b3993dde81",
   "metadata": {},
   "source": [
    "Q1) Calculate the 95% confidence interval for a sample of data with a mean of 50 and a standard deviation of 5 using Python. Interpret the results."
   ]
  },
  {
   "cell_type": "code",
   "execution_count": 1,
   "id": "1f251549-a4b4-4c87-bdb6-3e271ae699a3",
   "metadata": {},
   "outputs": [
    {
     "name": "stdout",
     "output_type": "stream",
     "text": [
      "Critical t statistic for 95.00% for 50 samples : 2.0096\n",
      "Margin of error is : 1.42\n",
      "Point Estimate of mean is : 50\n",
      "Mean Estimate with 95% Confidence Interval: (48.58, 51.42)\n"
     ]
    }
   ],
   "source": [
    "import scipy.stats as stats\n",
    "\n",
    "sample_mean = 50\n",
    "sample_std_dev = 5\n",
    "sample_size = 50 # assuming a sample size of 50\n",
    "\n",
    "# calculate the standard error of the mean\n",
    "std_error_mean = sample_std_dev / (sample_size ** 0.5)\n",
    "\n",
    "# Confidence Level\n",
    "confidence_level = 0.95\n",
    "\n",
    "# significance level\n",
    "alpha = 1 -  confidence_level\n",
    "\n",
    "# calculate the t-value for a 95% confidence interval with 49 degrees of freedom\n",
    "t_value = stats.t.ppf(1-alpha/2, df=sample_size-1)\n",
    "\n",
    "# Print critical t-value \n",
    "print(f'Critical t statistic for {confidence_level*100:.2f}% for {sample_size} samples : {t_value:.4f}')\n",
    "\n",
    "# calculate the margin of error\n",
    "margin_of_error = t_value * std_error_mean\n",
    "print(f'Margin of error is : {margin_of_error:.2f}')\n",
    "print(f'Point Estimate of mean is : {sample_mean}')\n",
    "\n",
    "# calculate the lower and upper bounds of the confidence interval\n",
    "lower_bound = sample_mean - margin_of_error\n",
    "upper_bound = sample_mean + margin_of_error\n",
    "\n",
    "print(f\"Mean Estimate with 95% Confidence Interval: ({lower_bound:.2f}, {upper_bound:.2f})\")"
   ]
  },
  {
   "cell_type": "markdown",
   "id": "a76046fc-c087-4eb2-b94a-b2da7cf41484",
   "metadata": {},
   "source": [
    "Q2) Conduct a chi-square goodness of fit test to determine if the distribution of colors of M&Ms in a bag\n",
    "matches the expected distribution of 20% blue, 20% orange, 20% green, 10% yellow, 10% red, and 20%\n",
    "brown. Use Python to perform the test with a significance level of 0.05"
   ]
  },
  {
   "cell_type": "code",
   "execution_count": 2,
   "id": "3ae97a11-9eb6-4dd1-9b30-64afe4fce5d2",
   "metadata": {},
   "outputs": [
    {
     "name": "stdout",
     "output_type": "stream",
     "text": [
      "Test Chi2 statistic: 5.0\n",
      "p-value: 0.4158801869955079\n",
      "Critical Chi Square value for 0.05 significance level for 5 degrees of freedom is : 11.0705\n",
      "Fail to reject null hypothesis\n",
      "Conclusion : The distribution of colors of M&Ms in the bag matches the expected distribution.\n"
     ]
    }
   ],
   "source": [
    "import numpy as np\n",
    "from scipy.stats import chisquare\n",
    "from scipy.stats import chi2\n",
    "\n",
    "# observed frequencies\n",
    "obs_freq = np.array([10, 20, 15, 5, 5, 15])\n",
    "\n",
    "# expected frequencies\n",
    "exp_freq = np.array([0.2, 0.2, 0.2, 0.1, 0.1, 0.2]) * np.sum(obs_freq)\n",
    "\n",
    "# Null and alternate hypothesis\n",
    "null_hypothesis = \"The distribution of colors of M&Ms in the bag matches the expected distribution.\"\n",
    "alternate_hypothesis = \"The distribution of colors of M&Ms in the bag does not match the expected distribution.\"\n",
    "\n",
    "# perform chi-square goodness of fit test\n",
    "test_statistic, p_value = chisquare(obs_freq, exp_freq)\n",
    "\n",
    "# print results\n",
    "print(\"Test Chi2 statistic:\", test_statistic)\n",
    "print(\"p-value:\", p_value)\n",
    "\n",
    "# Critical chi2 value\n",
    "df = len(obs_freq)-1\n",
    "alpha = 0.05\n",
    "chi2_crit = chi2.ppf(1-alpha,df)\n",
    "print(f\"Critical Chi Square value for {alpha} significance level for {df} degrees of freedom is : {chi2_crit:.4f}\")\n",
    "\n",
    "# compare p-value with significance level\n",
    "alpha = 0.05\n",
    "if p_value < alpha:\n",
    "    print(\"Reject null hypothesis\")\n",
    "    print(f\"Conculsion : {alternate_hypothesis}\")\n",
    "else:\n",
    "    print(\"Fail to reject null hypothesis\")\n",
    "    print(f\"Conclusion : {null_hypothesis}\")"
   ]
  },
  {
   "cell_type": "markdown",
   "id": "8dddbd74-f3e3-4064-ae94-e01fb028cf0f",
   "metadata": {},
   "source": [
    "Q3) Use Python to calculate the chi-square statistic and p-value for a contingency table with the following\n",
    "data:"
   ]
  },
  {
   "cell_type": "code",
   "execution_count": null,
   "id": "44b43810-c884-4aca-a0da-39effad1e610",
   "metadata": {},
   "outputs": [],
   "source": [
    "\n",
    "         Group A  Group B\n",
    "Outcome 1\t20\t    15\n",
    "Outcome 2\t10\t    25\n",
    "Outcome 3\t15\t    20\n",
    "Interpret the results of test"
   ]
  },
  {
   "cell_type": "code",
   "execution_count": 3,
   "id": "369804d8-0a62-4a16-be90-596e1b7277b3",
   "metadata": {},
   "outputs": [
    {
     "name": "stdout",
     "output_type": "stream",
     "text": [
      "Observed Dataframe Below :\n",
      "\n",
      "           Group A  Group B\n",
      "Outcome 1       20       15\n",
      "Outcome 2       10       25\n",
      "Outcome 3       15       20\n",
      "\n",
      "============================\n",
      "\n",
      "Expected Values Dataframe Below :\n",
      "\n",
      "           Group A  Group B\n",
      "Outcome 1     15.0     20.0\n",
      "Outcome 2     15.0     20.0\n",
      "Outcome 3     15.0     20.0\n",
      "\n",
      "Chi-square statistic: 5.8333\n",
      "p-value: 0.0541\n",
      "Failed to reject the Null Hypothesis\n",
      "Conclusion : The outcomes are independent of the groups.\n"
     ]
    }
   ],
   "source": [
    "from scipy.stats import chi2_contingency\n",
    "import pandas as pd\n",
    "\n",
    "# Defining the observed contingency table in pandas\n",
    "obs_df = pd.DataFrame({'Group A':[20,10,15],'Group B':[15,25,20]})\n",
    "obs_df.index = ['Outcome 1','Outcome 2','Outcome 3']\n",
    "print(\"Observed Dataframe Below :\\n\")\n",
    "print(obs_df)\n",
    "print(\"\\n============================\\n\")\n",
    "\n",
    "# Null and Alternate Hypothesis\n",
    "null_hypothesis = \"The outcomes are independent of the groups.\"\n",
    "alternate_hypothesis = \"The outcomes are Dependent on the groups.\"\n",
    "\n",
    "# Calculate the chi-square statistic and p-value\n",
    "stat, p, dof, expected = chi2_contingency(obs_df)\n",
    "\n",
    "# Print Expected DataFrame\n",
    "expected_df = pd.DataFrame(expected)\n",
    "expected_df.columns = ['Group A','Group B']\n",
    "expected_df.index = ['Outcome 1','Outcome 2','Outcome 3']\n",
    "print(\"Expected Values Dataframe Below :\\n\")\n",
    "print(expected_df)\n",
    "\n",
    "# Print the results\n",
    "print(\"\\nChi-square statistic:\", round(stat,4))\n",
    "print(\"p-value:\", round(p,4))\n",
    "\n",
    "# Significance \n",
    "alpha = 0.05 \n",
    "\n",
    "if p < alpha :\n",
    "    print(\"Reject the Null Hypothesis\")\n",
    "    print(f\"Conclusion : {alternate_hypothesis}\")\n",
    "else:\n",
    "    print(\"Failed to reject the Null Hypothesis\")\n",
    "    print(f\"Conclusion : {null_hypothesis}\")"
   ]
  },
  {
   "cell_type": "code",
   "execution_count": null,
   "id": "671b70b5-3bf4-4635-96a2-afe6dc39bd5b",
   "metadata": {},
   "outputs": [],
   "source": [
    "Validating above results with manual calculation:\n",
    "    \n",
    "1.Calculating sums along rows and columns in observed data\n",
    "\n",
    "          Group A\tGroup B\t Sum\n",
    "Outcome 1\t20\t      15\t 35\n",
    "Outcome 2\t10\t      25\t 35\n",
    "Outcome 3\t15\t      20\t 35\n",
    "Sum     \t45\t      60\t 105\n",
    "\n",
    "2.Calculating Expected Values using formula Expected Value = (Row Sum*Column Sum)/(Total Sum)\n",
    "Expected Values\n",
    "\n",
    "                 Group A\t         Group B\n",
    "Outcome 1\t(35x45)/105 = 15\t(35x60)/105 = 20\n",
    "Outcome 2\t(35x45)/105 = 15\t(35x60)/105 = 20\n",
    "Outcome 3\t(35x45)/105 = 15\t(35x60)/105 = 20\n",
    "\n",
    "3.Calculating Chi Square Values : \n",
    " \n",
    "For above Chi Square value is 5.8333\n",
    "\n",
    "4.Degrees of freedom\n",
    "\n",
    "Degrees of freedom = (number of rows - 1)*(number of columns - 1)\n",
    "Degrees of freedom = (3-1)*(2-1) = 2*1 = 2\n",
    "\n",
    "5.Critical Chi Square value for alpha = 0.05 dof = 2 is 5.991\n",
    "\n",
    "6.Compare Chi square statistic with critical value\n",
    "In our case Chi Square Statistic < Chi Square Critical (5.8333 < 5.991)\n",
    "\n",
    "Hence We Fail to Reject the Null Hypothesis\n",
    "\n",
    "Conclusion : Outcome and Groups are Independent of each other"
   ]
  },
  {
   "cell_type": "markdown",
   "id": "40cd5ece-dc50-42aa-b616-343e0b10088b",
   "metadata": {},
   "source": [
    "Q4) A study of the prevalence of smoking in a population of 500 individuals found that 60 individuals\n",
    "smoked. Use Python to calculate the 95% confidence interval for the true proportion of individuals in the\n",
    "population who smoke."
   ]
  },
  {
   "cell_type": "code",
   "execution_count": 1,
   "id": "5235e05b-57f0-4504-b3ce-f4de3b20d7e2",
   "metadata": {},
   "outputs": [
    {
     "name": "stdout",
     "output_type": "stream",
     "text": [
      "Critical Z statistic for 95.0% is 1.9600\n",
      "95% confidence interval : (9.15%, 14.85%)\n"
     ]
    }
   ],
   "source": [
    "import scipy.stats as stats\n",
    "import math\n",
    "\n",
    "# Sample size\n",
    "n = 500\n",
    "\n",
    "# Number of individuals who smoke in the sample\n",
    "x = 60\n",
    "\n",
    "# Proportion of individuals who smoke in the sample\n",
    "p = x/n\n",
    "\n",
    "# Confidence Level\n",
    "confidence_level = 0.95\n",
    "alpha = 1 - confidence_level\n",
    "\n",
    "# Z-value for 95% confidence interval\n",
    "z = stats.norm.ppf(1-alpha/2)\n",
    "\n",
    "# Print critical z value \n",
    "print(f'Critical Z statistic for {confidence_level*100}% is {z:.4f}')\n",
    "\n",
    "# Standard error of proportion\n",
    "se = math.sqrt((p*(1-p))/n)\n",
    "\n",
    "# Calculate confidence interval\n",
    "lower_ci = p - z*se\n",
    "upper_ci = p + z*se\n",
    "\n",
    "print(\"95% confidence interval : ({:.2f}%, {:.2f}%)\".format(lower_ci*100, upper_ci*100))"
   ]
  },
  {
   "cell_type": "code",
   "execution_count": null,
   "id": "0ffc649c-f5af-41d8-a883-ebde16c3805a",
   "metadata": {},
   "outputs": [],
   "source": [
    "Validating above with t statistic as well"
   ]
  },
  {
   "cell_type": "code",
   "execution_count": 2,
   "id": "89dcaf14-b0b7-4a13-b7f0-b747cc9b4176",
   "metadata": {},
   "outputs": [
    {
     "name": "stdout",
     "output_type": "stream",
     "text": [
      "t statistic for 500 samples with 95.0%  confidence is : 1.9647\n",
      "95% confidence interval: (9.14%, 14.86%)\n"
     ]
    }
   ],
   "source": [
    "import scipy.stats as stats\n",
    "import math\n",
    "\n",
    "# Sample size\n",
    "n = 500\n",
    "\n",
    "# Number of individuals who smoke in the sample\n",
    "x = 60\n",
    "\n",
    "# Proportion of individuals who smoke in the sample\n",
    "p = x/n\n",
    "\n",
    "# Calculate the standard error of the sample proportion\n",
    "se = math.sqrt(p * (1 - p) / n)\n",
    "\n",
    "# Confidence level\n",
    "confidence_level = 0.95\n",
    "alpha = 1 -  confidence_level\n",
    "\n",
    "# Calculate the t-value for a 95% confidence interval\n",
    "t = stats.t.ppf(1-alpha/2, n - 1)\n",
    "\n",
    "# Printing the t-statistic\n",
    "print(f't statistic for {n} samples with {confidence_level*100}%  confidence is : {t:.4f}')\n",
    "\n",
    "# Calculate the margin of error\n",
    "moe = t * se\n",
    "\n",
    "# Calculate the lower and upper bounds of the confidence interval\n",
    "lower_ci = p - moe\n",
    "upper_ci = p + moe\n",
    "\n",
    "print(\"95% confidence interval: ({:.2f}%, {:.2f}%)\".format(lower_ci*100, upper_ci*100))"
   ]
  },
  {
   "cell_type": "markdown",
   "id": "4677189d-6948-40d5-bb5e-9641e391bdd6",
   "metadata": {},
   "source": [
    "Q5) Calculate the 90% confidence interval for a sample of data with a mean of 75 and a standard deviation\n",
    "of 12 using Python. Interpret the results."
   ]
  },
  {
   "cell_type": "code",
   "execution_count": 3,
   "id": "86bb20e1-15cd-4c22-8f01-3c0d5b1cf363",
   "metadata": {},
   "outputs": [
    {
     "name": "stdout",
     "output_type": "stream",
     "text": [
      "t_critical for 30 samples with 90.0% confidence is : 1.6991\n",
      "90% confidence interval: (71.277, 78.723)\n"
     ]
    }
   ],
   "source": [
    "import scipy.stats as stats\n",
    "import math\n",
    "\n",
    "# Given data\n",
    "x_bar = 75\n",
    "sigma = 12\n",
    "n = 30 # Assumed sample size 30\n",
    "\n",
    "# Degrees of freedom\n",
    "df = n - 1\n",
    "\n",
    "# Confidence level \n",
    "confidence_level = 0.90\n",
    "alpha = 1 -  confidence_level\n",
    "\n",
    "# Critical value for 90% confidence interval\n",
    "t_critical = stats.t.ppf(1 - alpha/2, df)\n",
    "print(f't_critical for {n} samples with {confidence_level*100}% confidence is : {t_critical:.4f}')\n",
    "\n",
    "# Calculate standard error of the mean\n",
    "sem = sigma / math.sqrt(n)\n",
    "\n",
    "# Calculate confidence interval\n",
    "lower_ci = x_bar - t_critical * sem\n",
    "upper_ci = x_bar + t_critical * sem\n",
    "\n",
    "print(\"90% confidence interval: ({:.3f}, {:.3f})\".format(lower_ci, upper_ci))"
   ]
  },
  {
   "cell_type": "markdown",
   "id": "37f28f0e-a1a7-4a4b-8a12-6d8eebecfba9",
   "metadata": {},
   "source": [
    "Q6) Use Python to plot the chi-square distribution with 10 degrees of freedom. Label the axes and shade the\n",
    "area corresponding to a chi-square statistic of 15."
   ]
  },
  {
   "cell_type": "code",
   "execution_count": 4,
   "id": "a0aee280-4844-4349-85b7-eb1e02ef192d",
   "metadata": {},
   "outputs": [
    {
     "data": {
      "image/png": "[encoded data removed]",
      "text/plain": [
       "<Figure size 800x500 with 1 Axes>"
      ]
     },
     "metadata": {},
     "output_type": "display_data"
    }
   ],
   "source": [
    "import numpy as np\n",
    "import scipy.stats as stats\n",
    "import matplotlib.pyplot as plt\n",
    "\n",
    "# Set degrees of freedom\n",
    "df = 10\n",
    "\n",
    "# Define range of x-values for plotting\n",
    "x = np.linspace(stats.chi2.ppf(0.0001, df), stats.chi2.ppf(0.999, df), 100)\n",
    "\n",
    "# Create plot\n",
    "fig, ax = plt.subplots(figsize=(8, 5))\n",
    "\n",
    "# Plot chi-square distribution\n",
    "ax.plot(x, stats.chi2.pdf(x, df), 'k-', lw=2, label='Chi-square PDF')\n",
    "\n",
    "# Calculating area under curve \n",
    "area = stats.chi2.cdf(15,df)\n",
    "\n",
    "# Shade area under the curve\n",
    "x_fill = np.linspace(stats.chi2.ppf(0.0001, df), 15, 100)\n",
    "ax.fill_between(x_fill, stats.chi2.pdf(x_fill, df), color='blue', alpha=0.5,label = f'Area under shaded region = {area:.4f}')\n",
    "\n",
    "# Add legend and labels\n",
    "ax.legend(loc='best', frameon=False)\n",
    "ax.set_xlabel('X')\n",
    "ax.set_ylabel('PDF(X)')\n",
    "ax.set_title('Chi-square Distribution with 10 Degrees of Freedom')\n",
    "\n",
    "plt.show()"
   ]
  },
  {
   "cell_type": "markdown",
   "id": "a058641b-ba76-4b7d-886b-b0195d11406d",
   "metadata": {},
   "source": [
    "Q7) A random sample of 1000 people was asked if they preferred Coke or Pepsi. Of the sample, 520\n",
    "preferred Coke. Calculate a 99% confidence interval for the true proportion of people in the population who\n",
    "prefer Coke."
   ]
  },
  {
   "cell_type": "code",
   "execution_count": 5,
   "id": "75ae320c-6ea0-45f9-9889-4e10709497a3",
   "metadata": {},
   "outputs": [
    {
     "name": "stdout",
     "output_type": "stream",
     "text": [
      "Critical T-statistic for 99.0% confidence for 1000 samples is : 2.5808\n",
      "Estimated mean population proportion with 99.0% Confidence interval: (47.92%, 56.08%)\n"
     ]
    }
   ],
   "source": [
    "import scipy.stats as st\n",
    "\n",
    "n = 1000\n",
    "x = 520\n",
    "conf_level = 0.99\n",
    "df = n - 1\n",
    "\n",
    "# Calculate the sample proportion and standard error\n",
    "p = x / n\n",
    "se = ((p * (1 - p)) / n) ** 0.5\n",
    "\n",
    "# Find the t-value\n",
    "t = st.t.ppf((1 + conf_level) / 2, df)\n",
    "\n",
    "# Print the critical value\n",
    "print(f'Critical T-statistic for {conf_level*100}% confidence for {n} samples is : {t:.4f}')\n",
    "\n",
    "# Calculate the confidence interval\n",
    "lower = p - t * se\n",
    "upper = p + t * se\n",
    "\n",
    "print(f\"Estimated mean population proportion with {conf_level*100}% Confidence interval: ({lower*100:.2f}%, {upper*100:.2f}%)\")"
   ]
  },
  {
   "cell_type": "markdown",
   "id": "ee83f3c7-be5f-407c-a13e-b1936c1c3a2c",
   "metadata": {},
   "source": [
    "Q8) A researcher hypothesizes that a coin is biased towards tails. They flip the coin 100 times and observe\n",
    "45 tails. Conduct a chi-square goodness of fit test to determine if the observed frequencies match the\n",
    "expected frequencies of a fair coin. Use a significance level of 0.05."
   ]
  },
  {
   "cell_type": "code",
   "execution_count": 6,
   "id": "9d39b6fc-dd96-4b1b-9a5c-9d19f06ac2fa",
   "metadata": {},
   "outputs": [
    {
     "name": "stdout",
     "output_type": "stream",
     "text": [
      "Chi-Square Test Statistic: 1.0000\n",
      "P-value: 0.3173\n",
      "Fail to reject the null hypothesis: The Coin is FAIR\n"
     ]
    }
   ],
   "source": [
    "import scipy.stats as stats\n",
    "\n",
    "# Set the observed and expected frequencies\n",
    "observed_frequencies = [45, 55]\n",
    "expected_frequencies = [50, 50]\n",
    "\n",
    "# Null and Alternate Hypothesis \n",
    "null_hypothesis = \"The Coin is FAIR\"\n",
    "alternate_hypothesis = \"The Coin is BIASED\"\n",
    "\n",
    "# Compute the chi-square test statistic and p-value\n",
    "test_statistic, p_value = stats.chisquare(observed_frequencies, f_exp=expected_frequencies)\n",
    "\n",
    "# Print the results\n",
    "print(\"Chi-Square Test Statistic: {:.4f}\".format(test_statistic))\n",
    "print(\"P-value: {:.4f}\".format(p_value))\n",
    "\n",
    "# significance level\n",
    "alpha = 0.05\n",
    "\n",
    "# Compare the p-value to the significance level\n",
    "if p_value < alpha:\n",
    "    print(f\"Reject the null hypothesis: {alternate_hypothesis}\")\n",
    "else:\n",
    "    print(f\"Fail to reject the null hypothesis: {null_hypothesis}\")"
   ]
  },
  {
   "cell_type": "markdown",
   "id": "8d41c569-e028-4914-a68f-577562c6ea8d",
   "metadata": {},
   "source": [
    "Q9) A study was conducted to determine if there is an association between smoking status (smoker or\n",
    "non-smoker) and lung cancer diagnosis (yes or no). The results are shown in the contingency table below.\n",
    "Conduct a chi-square test for independence to determine if there is a significant association between\n",
    "smoking status and lung cancer diagnosis."
   ]
  },
  {
   "cell_type": "code",
   "execution_count": null,
   "id": "7ad1c817-c760-4c44-8851-37c67855a699",
   "metadata": {},
   "outputs": [],
   "source": [
    "\t       Lung Cancer:Yes\t Lung Cancer:No\n",
    "Smoker\t        60\t              140\n",
    "Non Smoker  \t30\t              170\n",
    "\n",
    "Use a significance level of 0.05."
   ]
  },
  {
   "cell_type": "code",
   "execution_count": 7,
   "id": "61054a2e-533a-41d6-9f9e-08c20e40c691",
   "metadata": {},
   "outputs": [
    {
     "name": "stdout",
     "output_type": "stream",
     "text": [
      "Observed Data :\n",
      "            Lung Cancer:Yes  Lung Cancer:No\n",
      "Smoker                   60             140\n",
      "Non Smoker               30             170\n",
      "\n",
      "========================================\n",
      "\n",
      "Expected Data :\n",
      "            Lung Cancer:Yes  Lung Cancer:No\n",
      "Smoker                 45.0           155.0\n",
      "Non Smoker             45.0           155.0\n",
      "\n",
      "Chi-Square Test Statistic: 12.0573\n",
      "P-value: 0.0005\n",
      "Reject the null hypothesis.\n",
      "Conclusion : There is a SIGNIFICANT association between smoking status and lung cancer diagnosis.\n"
     ]
    }
   ],
   "source": [
    "import pandas as pd\n",
    "import scipy.stats as stats\n",
    "\n",
    "# Set up the contingency table\n",
    "observed_df = pd.DataFrame({'Lung Cancer:Yes':[60,30], 'Lung Cancer:No':[140,170]})\n",
    "observed_df.index = ['Smoker','Non Smoker']\n",
    "\n",
    "# Null Hypothesis and Alternate Hypothesis\n",
    "null_hypothesis = \"There is NO significant association between smoking status and lung cancer diagnosis.\"\n",
    "alternate_hypothesis = \"There is a SIGNIFICANT association between smoking status and lung cancer diagnosis.\"\n",
    "\n",
    "# Print Observed data\n",
    "print('Observed Data :')\n",
    "print(observed_df)\n",
    "print('\\n========================================\\n')\n",
    "\n",
    "# Compute the chi-square test statistic and p-value\n",
    "test_statistic, p_value, dof, expected = stats.chi2_contingency(observed_df)\n",
    "\n",
    "# Print expected df\n",
    "expected_df = pd.DataFrame(expected)\n",
    "expected_df.columns = observed_df.columns\n",
    "expected_df.index = observed_df.index\n",
    "print('Expected Data :')\n",
    "print(expected_df)\n",
    "\n",
    "# Print the results\n",
    "print(\"\\nChi-Square Test Statistic: {:.4f}\".format(test_statistic))\n",
    "print(\"P-value: {:.4f}\".format(p_value))\n",
    "\n",
    "# Significance value\n",
    "alpha = 0.05\n",
    "\n",
    "# Compare the p-value to the significance level\n",
    "if p_value < alpha:\n",
    "    print(f\"Reject the null hypothesis.\\nConclusion : {alternate_hypothesis}\")\n",
    "else:\n",
    "    print(f\"Fail to reject the null hypothesis.\\nConculsion : {null_hypothesis}\")"
   ]
  },
  {
   "cell_type": "markdown",
   "id": "0f6f4105-e33f-4294-9f70-9c9c0c732de9",
   "metadata": {},
   "source": [
    "Q10) A study was conducted to determine if the proportion of people who prefer milk chocolate, dark\n",
    "chocolate, or white chocolate is different in the U.S. versus the U.K. A random sample of 500 people from\n",
    "the U.S. and a random sample of 500 people from the U.K. were surveyed. The results are shown in the\n",
    "contingency table below. Conduct a chi-square test for independence to determine if there is a significant\n",
    "association between chocolate preference and country of origin."
   ]
  },
  {
   "cell_type": "code",
   "execution_count": null,
   "id": "6b5b7de1-4cba-4f54-b297-61ed8378e626",
   "metadata": {},
   "outputs": [],
   "source": [
    "\t          Milk Chocolate  Dark Chocolate   White Chocolate\n",
    "U.S. (n=500)\t200               150\t            150\n",
    "U.K. (n=500)\t225\t              175\t            100\n",
    "\n",
    "Use a significance level of 0.01."
   ]
  },
  {
   "cell_type": "code",
   "execution_count": 8,
   "id": "9683d1a0-42c4-437c-8a5e-b32f0cac46d4",
   "metadata": {},
   "outputs": [
    {
     "name": "stdout",
     "output_type": "stream",
     "text": [
      "Observed Data :\n",
      "              Milk Chocolate  Dark Chocolate  White Chocolate\n",
      "U.S. (n=500)             200             150              150\n",
      "U.K. (n=500)             225             175              100\n",
      "\n",
      "================================================================\n",
      "\n",
      "Expected Data :\n",
      "              Milk Chocolate  Dark Chocolate  White Chocolate\n",
      "U.S. (n=500)           212.5           162.5            125.0\n",
      "U.K. (n=500)           212.5           162.5            125.0\n",
      "\n",
      "Chi-Square Test Statistic: 13.3937\n",
      "P-value: 0.0012\n",
      "Reject the null hypothesis.\n",
      "Conclusion : There is a SIGNIFICANT association between Country and Chocolate type preffered.\n"
     ]
    }
   ],
   "source": [
    "import pandas as pd\n",
    "import scipy.stats as stats\n",
    "\n",
    "# Set up the contingency table\n",
    "observed_df = pd.DataFrame({'Milk Chocolate':[200,225], 'Dark Chocolate':[150,175], 'White Chocolate':[150,100]})\n",
    "observed_df.index = ['U.S. (n=500)','U.K. (n=500)']\n",
    "print('Observed Data :')\n",
    "print(observed_df)\n",
    "\n",
    "# Null Hypothesis and Alternate Hypothesis\n",
    "null_hypothesis = \"There is NO significant association between Country and Chocolate type preffered.\"\n",
    "alternate_hypothesis = \"There is a SIGNIFICANT association between Country and Chocolate type preffered.\"\n",
    "\n",
    "print('\\n================================================================\\n')\n",
    "\n",
    "# Compute the chi-square test statistic and p-value\n",
    "test_statistic, p_value, dof, expected = stats.chi2_contingency(observed_df)\n",
    "\n",
    "# Print expected df\n",
    "expected_df = pd.DataFrame(expected)\n",
    "expected_df.columns = observed_df.columns\n",
    "expected_df.index = observed_df.index\n",
    "print('Expected Data :')\n",
    "print(expected_df)\n",
    "\n",
    "# Print the results\n",
    "print(\"\\nChi-Square Test Statistic: {:.4f}\".format(test_statistic))\n",
    "print(\"P-value: {:.4f}\".format(p_value))\n",
    "\n",
    "# Significance value\n",
    "alpha = 0.01\n",
    "\n",
    "# Compare the p-value to the significance level\n",
    "if p_value < alpha:\n",
    "    print(f\"Reject the null hypothesis.\\nConclusion : {alternate_hypothesis}\")\n",
    "else:\n",
    "    print(f\"Fail to reject the null hypothesis.\\nConculsion : {null_hypothesis}\")"
   ]
  },
  {
   "cell_type": "markdown",
   "id": "310f4136-fc28-421d-9e28-d50da79cc047",
   "metadata": {},
   "source": [
    "Q11) A random sample of 30 people was selected from a population with an unknown mean and standard\n",
    "deviation. The sample mean was found to be 72 and the sample standard deviation was found to be 10.\n",
    "Conduct a hypothesis test to determine if the population mean is significantly different from 70. Use a\n",
    "significance level of 0.05."
   ]
  },
  {
   "cell_type": "code",
   "execution_count": null,
   "id": "c614c700-8042-48ec-90c6-5402b2184bcb",
   "metadata": {},
   "outputs": [],
   "source": [
    "1. Using a t-test to compare the means"
   ]
  },
  {
   "cell_type": "code",
   "execution_count": null,
   "id": "add8c27a-0c35-4dc2-9ca6-ab31f03f6a8f",
   "metadata": {},
   "outputs": [],
   "source": []
  },
  {
   "cell_type": "code",
   "execution_count": null,
   "id": "51dfa80d-ef2b-4ac7-b8de-e05cf8f2d758",
   "metadata": {},
   "outputs": [],
   "source": []
  },
  {
   "cell_type": "code",
   "execution_count": null,
   "id": "d50b5963-a337-4f40-8706-ca5425ed85f4",
   "metadata": {},
   "outputs": [],
   "source": []
  },
  {
   "cell_type": "code",
   "execution_count": null,
   "id": "e96e5c4f-fea2-4a8a-b9af-edd59c246f60",
   "metadata": {},
   "outputs": [],
   "source": []
  }
 ],
 "metadata": {
  "kernelspec": {
   "display_name": "Python 3 (ipykernel)",
   "language": "python",
   "name": "python3"
  },
  "language_info": {
   "codemirror_mode": {
    "name": "ipython",
    "version": 3
   },
   "file_extension": ".py",
   "mimetype": "text/x-python",
   "name": "python",
   "nbconvert_exporter": "python",
   "pygments_lexer": "ipython3",
   "version": "3.10.8"
  }
 },
 "nbformat": 4,
 "nbformat_minor": 5
}
